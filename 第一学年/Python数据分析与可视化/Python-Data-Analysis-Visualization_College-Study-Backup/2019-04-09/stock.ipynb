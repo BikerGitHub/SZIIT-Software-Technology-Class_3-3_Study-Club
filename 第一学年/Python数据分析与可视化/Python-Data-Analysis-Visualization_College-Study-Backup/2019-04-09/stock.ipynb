{
 "cells": [
  {
   "cell_type": "code",
   "execution_count": 4,
   "metadata": {},
   "outputs": [],
   "source": [
    "import numpy as np"
   ]
  },
  {
   "cell_type": "code",
   "execution_count": 38,
   "metadata": {},
   "outputs": [],
   "source": [
    "csv=np.loadtxt('stock.csv',dtype=str,delimiter=',')"
   ]
  },
  {
   "cell_type": "code",
   "execution_count": 6,
   "metadata": {},
   "outputs": [
    {
     "name": "stdout",
     "output_type": "stream",
     "text": [
      "<class 'numpy.ndarray'> (418,) 418\n",
      "avg=24.872201\n",
      "med=23.955000\n",
      "var=7.381254\n"
     ]
    }
   ],
   "source": [
    "closing_price=csv[:,2].astype(float)\n",
    "print(type(closing_price),closing_price.shape,closing_price.size)\n",
    "# print(closing_price)\n",
    "avg=np.mean(closing_price)\n",
    "med=np.median(closing_price)\n",
    "var=np.var(closing_price)\n",
    "print('avg=%f\\nmed=%f\\nvar=%f'%(avg,med,var))"
   ]
  },
  {
   "cell_type": "code",
   "execution_count": 7,
   "metadata": {},
   "outputs": [
    {
     "name": "stdout",
     "output_type": "stream",
     "text": [
      "highest=36.600000\n",
      "lowest=20.220000\n",
      "middle=28.410000\n"
     ]
    }
   ],
   "source": [
    "high_price=csv[:,3].astype(float)\n",
    "low_price=csv[:,4].astype(float)\n",
    "highest=max(high_price)\n",
    "lowest=min(low_price)\n",
    "middle=(highest+lowest)/2\n",
    "print('highest=%f\\nlowest=%f\\nmiddle=%f'%(highest,lowest,middle))"
   ]
  },
  {
   "cell_type": "code",
   "execution_count": 8,
   "metadata": {},
   "outputs": [
    {
     "name": "stdout",
     "output_type": "stream",
     "text": [
      "vwap=25.918677\n",
      "twap=24.641679\n"
     ]
    }
   ],
   "source": [
    "volume=csv[:,10].astype(float)\n",
    "vwap=np.average(closing_price,weights=volume)\n",
    "twap=np.average(closing_price,weights=np.arange(closing_price.shape[0]))\n",
    "print('vwap=%f\\ntwap=%f'%(vwap,twap))"
   ]
  },
  {
   "cell_type": "code",
   "execution_count": 50,
   "metadata": {},
   "outputs": [
    {
     "name": "stdout",
     "output_type": "stream",
     "text": [
      "[24.802      24.9622619  24.8977907  24.83238095 24.86261905]\n"
     ]
    }
   ],
   "source": [
    "import datetime\n",
    "def date2str(now):\n",
    "    return datetime.datetime.strptime(now,'%Y/%m/%d').date().weekday()+1\n",
    "try:\n",
    "    csv[:,1]=list(map(date2str,csv[:,1]))\n",
    "except:\n",
    "    pass\n",
    "price_avg=np.zeros(5)\n",
    "for index in range(5):\n",
    "    item=np.where(csv[:,1]==str(index+1))\n",
    "    price=np.take(closing_price,item)\n",
    "    avg=np.mean(price)\n",
    "    price_avg[index]=avg\n",
    "print(price_avg)"
   ]
  },
  {
   "cell_type": "code",
   "execution_count": null,
   "metadata": {},
   "outputs": [],
   "source": []
  }
 ],
 "metadata": {
  "kernelspec": {
   "display_name": "Python 3",
   "language": "python",
   "name": "python3"
  },
  "language_info": {
   "codemirror_mode": {
    "name": "ipython",
    "version": 3
   },
   "file_extension": ".py",
   "mimetype": "text/x-python",
   "name": "python",
   "nbconvert_exporter": "python",
   "pygments_lexer": "ipython3",
   "version": "3.7.1"
  }
 },
 "nbformat": 4,
 "nbformat_minor": 2
}
