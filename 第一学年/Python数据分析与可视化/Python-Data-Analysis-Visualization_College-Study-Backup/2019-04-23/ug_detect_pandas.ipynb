{
 "cells": [
  {
   "cell_type": "code",
   "execution_count": 403,
   "metadata": {},
   "outputs": [],
   "source": [
    "import numpy as np\n",
    "import pandas as pd\n",
    "import scipy.interpolate as itp\n",
    "import matplotlib.pyplot as plot\n",
    "\n",
    "csv_array=pd.read_csv('ug_detect.csv',index_col='采集时间点')\n",
    "csv_array[csv_array>888.88]=np.nan\n",
    "csv_array_save=csv_array"
   ]
  },
  {
   "cell_type": "code",
   "execution_count": 404,
   "metadata": {},
   "outputs": [
    {
     "name": "stdout",
     "output_type": "stream",
     "text": [
      "<class 'pandas.core.frame.DataFrame'>\n",
      "       温度（?C）  相对湿度  瓦斯(m?/min)  一氧化碳(m?/min)\n",
      "采集时间点                                        \n",
      "1       30.22  69.0        2.90          3.60\n",
      "2       37.68   NaN        2.86          3.64\n",
      "3       29.32  66.0         NaN          1.66\n",
      "4       37.44  68.0        1.18          6.49\n",
      "5       29.46  75.0        3.81          4.78\n",
      "6       30.12  77.0        1.93          4.20\n",
      "7       26.30  83.0        2.07          3.67\n",
      "8         NaN  66.0        1.46           NaN\n",
      "9       34.38  62.0        3.36          4.39\n",
      "10      30.79  75.0        2.40          5.79\n",
      "11      25.17  69.0        3.34          6.28\n",
      "12      20.50  80.0        2.95          6.22\n",
      "13      37.21   NaN         NaN          4.75\n",
      "14      31.88  94.0        2.41          1.49\n",
      "15      39.94  77.0        1.98          1.08\n",
      "16      33.65  67.0        2.03           NaN\n",
      "17      27.21  79.0        1.41          2.50\n",
      "18      27.57   NaN        3.39          1.70\n",
      "19      31.59  94.0        3.27          5.02\n",
      "20        NaN  93.0         NaN          4.69\n",
      "21      34.88  92.0        1.58          3.01\n",
      "22      29.65  92.0        2.69          5.16\n",
      "23      26.05  80.0        2.61          2.80\n",
      "24      33.50  79.0        1.26          6.81\n",
      "25      34.71  72.0        1.82          2.49\n",
      "26        NaN   NaN        3.77           NaN\n",
      "27      37.06  99.0        1.94          3.85\n",
      "28      28.57  64.0        3.93           NaN\n",
      "29      28.00  66.0        1.08          2.40\n",
      "30      25.67  60.0        2.33          3.84\n",
      "31      20.59  67.0        3.88          5.19\n",
      "32      39.84   NaN        3.40          3.77\n",
      "33      29.22  74.0        1.09           NaN\n",
      "34      33.19  61.0        3.22          1.74\n",
      "35      38.70  62.0        3.61          6.52\n",
      "36        NaN  62.0         NaN          6.83\n",
      "37      21.56  93.0        3.63          4.43\n",
      "38      38.06  67.0        3.21          2.41\n",
      "39      37.95  68.0        1.12          4.56\n",
      "40      35.80  96.0        1.52          5.54\n",
      "41      29.75  80.0        1.30          2.23\n",
      "42      32.69  69.0        3.26          1.43\n",
      "43      33.94  96.0        3.42          1.40\n",
      "44      36.31  78.0        3.69          5.34\n"
     ]
    }
   ],
   "source": [
    "print(type(csv_array))\n",
    "print(csv_array)"
   ]
  },
  {
   "cell_type": "code",
   "execution_count": 312,
   "metadata": {},
   "outputs": [],
   "source": [
    "#avg\n",
    "csv_array=csv_array_save\n",
    "for index in range(len(csv_array.values)):\n",
    "    for item_index in range(len(csv_array.values[index])):\n",
    "        if np.isnan(csv_array.values[index,item_index]):\n",
    "            csv_array.iat[index,item_index]=(csv_array.values[index-1,item_index]+csv_array.values[index+1,item_index])/2\n",
    "avg_array=csv_array"
   ]
  },
  {
   "cell_type": "code",
   "execution_count": 408,
   "metadata": {},
   "outputs": [
    {
     "name": "stdout",
     "output_type": "stream",
     "text": [
      "[0, 7, 19, 25, 35, 43]\n",
      "26.300000000000004\n",
      "31.590000000000003\n",
      "34.71000000000005\n",
      "38.700000000000045\n",
      "[0, 1, 12, 17, 25, 31, 43]\n",
      "66.0\n",
      "80.0\n",
      "79.0\n",
      "72.0\n",
      "67.0\n",
      "[0, 2, 12, 19, 35, 43]\n",
      "2.8600000000000003\n",
      "2.950000000000001\n",
      "3.2699999999999996\n",
      "3.6099999999999985\n",
      "[0, 7, 15, 25, 27, 32, 43]\n",
      "3.6700000000000013\n",
      "1.0799999999999983\n",
      "2.490000000000002\n",
      "3.8500000000000014\n",
      "3.769999999999996\n"
     ]
    }
   ],
   "source": [
    "#lagrange\n",
    "csv_array=csv_array_save\n",
    "for index in range(len(csv_array.values[0])):\n",
    "    nan_index=np.where(np.isnan(csv_array_save.values[:,index]))[0]\n",
    "    nan_index=[0]+list(nan_index)+[len(csv_array.values)-1]\n",
    "    print(nan_index)\n",
    "    for index_index in range(1,len(nan_index)-1):\n",
    "        if np.isnan(csv_array.values[nan_index[index_index],index]):\n",
    "            x_list=np.delete(csv_array.index,[nan_index[index_index]])[nan_index[index_index-1]+1:nan_index[index_index+1]-1]\n",
    "            y_list=np.delete(csv_array.values,[nan_index[index_index]],axis=0)[nan_index[index_index-1]+1:nan_index[index_index+1]-1,index]\n",
    "            if nan_index[index_index]-nan_index[index_index-1]>2:\n",
    "                x_list=x_list[nan_index[index_index]-nan_index[index_index-1]-2:]\n",
    "                y_list=y_list[nan_index[index_index]-nan_index[index_index-1]-2:]\n",
    "            if nan_index[index_index+1]-nan_index[index_index]>2:\n",
    "                x_list=x_list[:0-nan_index[index_index+1]+nan_index[index_index]+2]\n",
    "                y_list=y_list[:0-nan_index[index_index+1]+nan_index[index_index]+2]\n",
    "            lagrange_ploy=itp.lagrange(x_list,y_list)\n",
    "            print(lagrange_ploy(nan_index[index_index]))\n",
    "            csv_array.iat[nan_index[index_index],index]=lagrange_ploy(nan_index[index_index])\n",
    "lag_array=csv_array"
   ]
  },
  {
   "cell_type": "code",
   "execution_count": 409,
   "metadata": {},
   "outputs": [
    {
     "data": {
      "image/png": "[encoded data removed]",
      "text/plain": [
       "<Figure size 432x288 with 1 Axes>"
      ]
     },
     "metadata": {
      "needs_background": "light"
     },
     "output_type": "display_data"
    },
    {
     "name": "stdout",
     "output_type": "stream",
     "text": [
      "67.0\n"
     ]
    }
   ],
   "source": [
    "plot.plot(avg_array.values[:,1])\n",
    "plot.plot(lag_array.values[:,1],'ro')\n",
    "plot.plot(avg_array.values[:,1],'gp')\n",
    "plot.show()\n",
    "print(lag_array.values[31,1])"
   ]
  },
  {
   "cell_type": "code",
   "execution_count": null,
   "metadata": {},
   "outputs": [],
   "source": []
  }
 ],
 "metadata": {
  "kernelspec": {
   "display_name": "Python 3",
   "language": "python",
   "name": "python3"
  },
  "language_info": {
   "codemirror_mode": {
    "name": "ipython",
    "version": 3
   },
   "file_extension": ".py",
   "mimetype": "text/x-python",
   "name": "python",
   "nbconvert_exporter": "python",
   "pygments_lexer": "ipython3",
   "version": "3.7.1"
  }
 },
 "nbformat": 4,
 "nbformat_minor": 2
}
